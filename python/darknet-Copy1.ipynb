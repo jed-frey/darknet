{
 "cells": [
  {
   "cell_type": "code",
   "execution_count": 1,
   "metadata": {},
   "outputs": [],
   "source": [
    "import ctypes\n",
    "import math\n",
    "import random"
   ]
  },
  {
   "cell_type": "code",
   "execution_count": 2,
   "metadata": {},
   "outputs": [],
   "source": [
    "import os\n",
    "import subprocess"
   ]
  },
  {
   "cell_type": "code",
   "execution_count": 3,
   "metadata": {},
   "outputs": [],
   "source": [
    "def c_array(ctype, values):\n",
    "    arr = (ctype*len(values))()\n",
    "    arr[:] = values\n",
    "    return arr\n",
    "\n",
    "class BOX(ctypes.Structure):\n",
    "    _fields_ = [(\"x\", ctypes.c_float),\n",
    "                (\"y\", ctypes.c_float),\n",
    "                (\"w\", ctypes.c_float),\n",
    "                (\"h\", ctypes.c_float)]\n",
    "\n",
    "class DETECTION(ctypes.Structure):\n",
    "    _fields_ = [(\"bbox\", BOX),\n",
    "                (\"classes\", ctypes.c_int),\n",
    "                (\"prob\", ctypes.POINTER(ctypes.c_float)),\n",
    "                (\"mask\", ctypes.POINTER(ctypes.c_float)),\n",
    "                (\"objectness\", ctypes.c_float),\n",
    "                (\"sort_class\", ctypes.c_int)]\n",
    "\n",
    "\n",
    "class IMAGE(ctypes.Structure):\n",
    "    _fields_ = [(\"w\", ctypes.c_int),\n",
    "                (\"h\", ctypes.c_int),\n",
    "                (\"c\", ctypes.c_int),\n",
    "                (\"data\", ctypes.POINTER(ctypes.c_float))]\n",
    "\n",
    "class METADATA(ctypes.Structure):\n",
    "    _fields_ = [(\"classes\", ctypes.c_int),\n",
    "                (\"names\", ctypes.POINTER(ctypes.c_char_p))]"
   ]
  },
  {
   "cell_type": "code",
   "execution_count": 8,
   "metadata": {},
   "outputs": [],
   "source": [
    "from cached_property import cached_property"
   ]
  },
  {
   "cell_type": "code",
   "execution_count": 12,
   "metadata": {},
   "outputs": [],
   "source": [
    "class Darknet(object):\n",
    "    def __init__(self, darknet_directory=\"..\"):\n",
    "        self.darknet_directory=os.path.abspath(darknet_directory)\n",
    "        \n",
    "    @property\n",
    "    def cfg_dir(self):\n",
    "        return os.path.abspath(\n",
    "            os.path.join(\n",
    "                self.darknet_directory,\n",
    "                \"cfg\"\n",
    "            )\n",
    "        )\n",
    "    \n",
    "    @property\n",
    "    def exe(self):\n",
    "        return os.path.abspath(\n",
    "            os.path.join(\n",
    "                self.darknet_directory,\n",
    "                \"darknet\"\n",
    "            )\n",
    "        )\n",
    "    \n",
    "    @property\n",
    "    def lib_path(self):\n",
    "        return os.path.abspath(\n",
    "            os.path.join(\n",
    "                self.darknet_directory,\n",
    "                \"libdarknet.so\"\n",
    "            )\n",
    "        )\n",
    "    \n",
    "    def build(self, force=False, **kwargs):\n",
    "        if os.path.exists(self.exe) and not force:\n",
    "            return \"\"\n",
    "        os.chdir(self.darknet_directory)\n",
    "        out = subprocess.check_output([\"make\", \"clean\"])\n",
    "       \n",
    "        for arg, value in kwargs.items():\n",
    "            if value:     \n",
    "                os.environ[arg.upper()]=\"1\"\n",
    "                #print(\"{}=1\".format(arg.upper()))\n",
    "            else:\n",
    "                os.environ[arg.upper()]=\"0\"\n",
    "                #print(\"{}=0\".format(arg.upper()))\n",
    "                \n",
    "        out = subprocess.check_output([\"make\", \"-j8\"])\n",
    "        return (out.decode(\"UTF-8\"))\n",
    "    \n",
    "    @cached_property\n",
    "    def lib(self):\n",
    "        return ctypes.CDLL(self.lib_path, ctypes.RTLD_GLOBAL)\n",
    "        \n",
    "\n",
    "\n",
    "        \n",
    "dn = Darknet(\"/projects/darknet/\")\n",
    "out = dn.build(opencv=True, openmp=True)"
   ]
  },
  {
   "cell_type": "code",
   "execution_count": 13,
   "metadata": {},
   "outputs": [
    {
     "data": {
      "text/plain": [
       "<CDLL '/projects/darknet/libdarknet.so', handle 562eaa068830 at 0x7f37677b0b00>"
      ]
     },
     "execution_count": 13,
     "metadata": {},
     "output_type": "execute_result"
    }
   ],
   "source": [
    "dn.lib"
   ]
  },
  {
   "cell_type": "code",
   "execution_count": null,
   "metadata": {},
   "outputs": [],
   "source": [
    "# Test\n",
    "\"\"\"\n",
    "for opencv in [True, False]:\n",
    "    for openmp in [True, False]:\n",
    "        out = dn.build(opencv=opencv, openmp=openmp)\n",
    "        out=out.lower()\n",
    "        assert (\"opencv\" in out) == opencv\n",
    "        assert (\"openmp\" in out) == openmp\n",
    "        print()\"\"\""
   ]
  },
  {
   "cell_type": "code",
   "execution_count": null,
   "metadata": {},
   "outputs": [],
   "source": [
    "def sample(probs):\n",
    "    s = sum(probs)\n",
    "    probs = [a/s for a in probs]\n",
    "    r = random.uniform(0, 1)\n",
    "    for i in range(len(probs)):\n",
    "        r = r - probs[i]\n",
    "        if r <= 0:\n",
    "            return i\n",
    "    return len(probs)-1\n",
    "\n"
   ]
  },
  {
   "cell_type": "code",
   "execution_count": null,
   "metadata": {},
   "outputs": [],
   "source": [
    "#lib = CDLL(\"/home/pjreddie/documents/darknet/libdarknet.so\", RTLD_GLOBAL)\n",
    "\n",
    "lib.network_width.argtypes = [c_void_p]\n",
    "lib.network_width.restype = c_int\n",
    "lib.network_height.argtypes = [c_void_p]\n",
    "lib.network_height.restype = c_int"
   ]
  },
  {
   "cell_type": "code",
   "execution_count": null,
   "metadata": {},
   "outputs": [],
   "source": [
    "predict = lib.network_predict\n",
    "predict.argtypes = [c_void_p, POINTER(c_float)]\n",
    "predict.restype = POINTER(c_float)\n",
    "\n",
    "set_gpu = lib.cuda_set_device\n",
    "set_gpu.argtypes = [c_int]\n",
    "\n",
    "make_image = lib.make_image\n",
    "make_image.argtypes = [c_int, c_int, c_int]\n",
    "make_image.restype = IMAGE\n",
    "\n",
    "get_network_boxes = lib.get_network_boxes\n",
    "get_network_boxes.argtypes = [c_void_p, c_int, c_int, c_float, c_float, POINTER(c_int), c_int, POINTER(c_int)]\n",
    "get_network_boxes.restype = POINTER(DETECTION)\n",
    "\n",
    "make_network_boxes = lib.make_network_boxes\n",
    "make_network_boxes.argtypes = [c_void_p]\n",
    "make_network_boxes.restype = POINTER(DETECTION)\n",
    "\n",
    "free_detections = lib.free_detections\n",
    "free_detections.argtypes = [POINTER(DETECTION), c_int]\n",
    "\n",
    "free_ptrs = lib.free_ptrs\n",
    "free_ptrs.argtypes = [POINTER(c_void_p), c_int]\n",
    "\n",
    "network_predict = lib.network_predict\n",
    "network_predict.argtypes = [c_void_p, POINTER(c_float)]\n",
    "\n",
    "reset_rnn = lib.reset_rnn\n",
    "reset_rnn.argtypes = [c_void_p]\n",
    "\n",
    "load_net = lib.load_network\n",
    "load_net.argtypes = [c_char_p, c_char_p, c_int]\n",
    "load_net.restype = c_void_p\n",
    "\n",
    "do_nms_obj = lib.do_nms_obj\n",
    "do_nms_obj.argtypes = [POINTER(DETECTION), c_int, c_int, c_float]\n",
    "\n",
    "do_nms_sort = lib.do_nms_sort\n",
    "do_nms_sort.argtypes = [POINTER(DETECTION), c_int, c_int, c_float]\n",
    "\n",
    "free_image = lib.free_image\n",
    "free_image.argtypes = [IMAGE]\n",
    "\n",
    "letterbox_image = lib.letterbox_image\n",
    "letterbox_image.argtypes = [IMAGE, c_int, c_int]\n",
    "letterbox_image.restype = IMAGE\n",
    "\n",
    "load_meta = lib.get_metadata\n",
    "lib.get_metadata.argtypes = [c_char_p]\n",
    "lib.get_metadata.restype = METADATA\n",
    "\n",
    "load_image = lib.load_image_color\n",
    "load_image.argtypes = [c_char_p, c_int, c_int]\n",
    "load_image.restype = IMAGE\n",
    "\n",
    "rgbgr_image = lib.rgbgr_image\n",
    "rgbgr_image.argtypes = [IMAGE]\n",
    "\n",
    "predict_image = lib.network_predict_image\n",
    "predict_image.argtypes = [c_void_p, IMAGE]\n",
    "predict_image.restype = POINTER(c_float)\n",
    "\n",
    "def classify(net, meta, im):\n",
    "    out = predict_image(net, im)\n",
    "    res = []\n",
    "    for i in range(meta.classes):\n",
    "        res.append((meta.names[i], out[i]))\n",
    "    res = sorted(res, key=lambda x: -x[1])\n",
    "    return res\n",
    "\n",
    "def detect(net, meta, image, thresh=.5, hier_thresh=.5, nms=.45):\n",
    "    im = load_image(image, 0, 0)\n",
    "    num = c_int(0)\n",
    "    pnum = pointer(num)\n",
    "    predict_image(net, im)\n",
    "    dets = get_network_boxes(net, im.w, im.h, thresh, hier_thresh, None, 0, pnum)\n",
    "    num = pnum[0]\n",
    "    if (nms): do_nms_obj(dets, num, meta.classes, nms);\n",
    "\n",
    "    res = []\n",
    "    for j in range(num):\n",
    "        for i in range(meta.classes):\n",
    "            if dets[j].prob[i] > 0:\n",
    "                b = dets[j].bbox\n",
    "                res.append((meta.names[i], dets[j].prob[i], (b.x, b.y, b.w, b.h)))\n",
    "    res = sorted(res, key=lambda x: -x[1])\n",
    "    free_image(im)\n",
    "    free_detections(dets, num)\n",
    "    return res"
   ]
  },
  {
   "cell_type": "code",
   "execution_count": null,
   "metadata": {},
   "outputs": [],
   "source": [
    "import os"
   ]
  },
  {
   "cell_type": "code",
   "execution_count": null,
   "metadata": {},
   "outputs": [],
   "source": [
    "net = load_net(os.path.abspath(\"../cfg/yolov3.cfg\").encode(), os.path.abspath(\"../cfg/yolov3.weights\").encode(), 0)"
   ]
  },
  {
   "cell_type": "code",
   "execution_count": null,
   "metadata": {},
   "outputs": [],
   "source": [
    "dog_jpg = os.path.abspath(\"../data/dog.jpg\")\n",
    "assert os.path.exists(dog_jpg)"
   ]
  },
  {
   "cell_type": "code",
   "execution_count": null,
   "metadata": {},
   "outputs": [],
   "source": [
    "dog = load_image(dog_jpg.encode(), 0, 0)"
   ]
  },
  {
   "cell_type": "code",
   "execution_count": null,
   "metadata": {},
   "outputs": [],
   "source": [
    "num = c_int(0)\n",
    "pnum = pointer(num)\n",
    "predict_image(net, dog)"
   ]
  },
  {
   "cell_type": "code",
   "execution_count": null,
   "metadata": {},
   "outputs": [],
   "source": [
    "meta = load_meta(os.path.abspath(\"../cfg/coco.data\").encode())"
   ]
  },
  {
   "cell_type": "code",
   "execution_count": null,
   "metadata": {},
   "outputs": [],
   "source": [
    "if __name__ == \"__main__\":\n",
    "    #net = load_net(\"cfg/densenet201.cfg\", \"/home/pjreddie/trained/densenet201.weights\", 0)\n",
    "    #im = load_image(\"data/wolf.jpg\", 0, 0)\n",
    "    #meta = load_meta(\"cfg/imagenet1k.data\")\n",
    "    #r = classify(net, meta, im)\n",
    "    #print r[:10]\n",
    "    net = load_net(\"cfg/tiny-yolo.cfg\", \"tiny-yolo.weights\", 0)\n",
    "    meta = load_meta(\"cfg/coco.data\")\n",
    "    r = detect(net, meta, \"data/dog.jpg\")\n",
    "    print r\n",
    "    "
   ]
  },
  {
   "cell_type": "code",
   "execution_count": null,
   "metadata": {},
   "outputs": [],
   "source": []
  }
 ],
 "metadata": {
  "kernelspec": {
   "display_name": "Python 3",
   "language": "python",
   "name": "python3"
  },
  "language_info": {
   "codemirror_mode": {
    "name": "ipython",
    "version": 3
   },
   "file_extension": ".py",
   "mimetype": "text/x-python",
   "name": "python",
   "nbconvert_exporter": "python",
   "pygments_lexer": "ipython3",
   "version": "3.6.5"
  }
 },
 "nbformat": 4,
 "nbformat_minor": 2
}
