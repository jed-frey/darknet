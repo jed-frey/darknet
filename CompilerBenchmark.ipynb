{
 "cells": [
  {
   "cell_type": "code",
   "execution_count": 27,
   "metadata": {},
   "outputs": [],
   "source": [
    "import subprocess\n",
    "import glob"
   ]
  },
  {
   "cell_type": "code",
   "execution_count": 31,
   "metadata": {},
   "outputs": [
    {
     "data": {
      "text/plain": [
       "['darknet-clang-3.9-0-0',\n",
       " 'darknet-gcc-5-0-0',\n",
       " 'darknet-gcc-4.8-0-0',\n",
       " 'darknet-gcc-7-0-0',\n",
       " 'darknet-clang-7-0-0',\n",
       " 'darknet-clang-6.0-0-0',\n",
       " 'darknet-gcc-8-0-0',\n",
       " 'darknet-clang-5.0-0-0',\n",
       " 'darknet-gcc-6-0-0',\n",
       " 'darknet-clang-4.0-0-0']"
      ]
     },
     "execution_count": 31,
     "metadata": {},
     "output_type": "execute_result"
    }
   ],
   "source": [
    "builds = glob.glob(\"darknet-*-0-0\")\n",
    "builds"
   ]
  },
  {
   "cell_type": "code",
   "execution_count": 32,
   "metadata": {},
   "outputs": [],
   "source": [
    "import os\n",
    "\n",
    "import time"
   ]
  },
  {
   "cell_type": "code",
   "execution_count": 35,
   "metadata": {},
   "outputs": [],
   "source": [
    "results = dict()\n",
    "for _ in range(5):\n",
    "    for build in builds:\n",
    "        if build not in results:\n",
    "            results[build]=list()\n",
    "        t1=time.time()\n",
    "        cmd = [\n",
    "            os.path.abspath(build),\n",
    "            \"detect\",\n",
    "            os.path.abspath(\"cfg/yolov3.cfg\"),\n",
    "            os.path.abspath(\"weights/yolov3.weights\"),\n",
    "            os.path.abspath(\"data/dog.jpg\"),\n",
    "        ]\n",
    "        out=subprocess.check_output(cmd)\n",
    "        t2=time.time()\n",
    "        results[build].append(t2-t1)"
   ]
  },
  {
   "cell_type": "code",
   "execution_count": 44,
   "metadata": {},
   "outputs": [
    {
     "data": {
      "text/plain": [
       "'/vault/projects/darknet/darknet-clang-4.0-0-1 detect /vault/projects/darknet/cfg/yolov3.cfg /vault/projects/darknet/weights/yolov3.weights /vault/projects/darknet/data/dog.jpg'"
      ]
     },
     "execution_count": 44,
     "metadata": {},
     "output_type": "execute_result"
    }
   ],
   "source": [
    "\" \".join(cmd)"
   ]
  },
  {
   "cell_type": "code",
   "execution_count": 38,
   "metadata": {},
   "outputs": [],
   "source": [
    "import numpy as np"
   ]
  },
  {
   "cell_type": "code",
   "execution_count": 40,
   "metadata": {},
   "outputs": [
    {
     "name": "stdout",
     "output_type": "stream",
     "text": [
      "darknet-clang-3.9-0-0: 16.10\n",
      "darknet-gcc-5-0-0: 21.16\n",
      "darknet-gcc-4.8-0-0: 22.76\n",
      "darknet-gcc-7-0-0: 16.77\n",
      "darknet-clang-7-0-0: 16.08\n",
      "darknet-clang-6.0-0-0: 15.97\n",
      "darknet-gcc-8-0-0: 16.92\n",
      "darknet-clang-5.0-0-0: 15.89\n",
      "darknet-gcc-6-0-0: 21.17\n",
      "darknet-clang-4.0-0-0: 15.84\n"
     ]
    }
   ],
   "source": [
    "for compiler, times in results.items():\n",
    "    print(\"{}: {:.2f}\".format(compiler, np.mean(times)))"
   ]
  },
  {
   "cell_type": "code",
   "execution_count": 41,
   "metadata": {},
   "outputs": [
    {
     "data": {
      "text/plain": [
       "['darknet-clang-6.0-0-1',\n",
       " 'darknet-clang-7-0-1',\n",
       " 'darknet-gcc-7-0-1',\n",
       " 'darknet-clang-4.0-0-1',\n",
       " 'darknet-gcc-8-0-1',\n",
       " 'darknet-gcc-6-0-1',\n",
       " 'darknet-clang-5.0-0-1',\n",
       " 'darknet-gcc-5-0-1',\n",
       " 'darknet-clang-3.9-0-1',\n",
       " 'darknet-gcc-4.8-0-1']"
      ]
     },
     "execution_count": 41,
     "metadata": {},
     "output_type": "execute_result"
    }
   ],
   "source": [
    "builds = glob.glob(\"darknet-*-0-1\")\n",
    "builds"
   ]
  },
  {
   "cell_type": "code",
   "execution_count": 42,
   "metadata": {},
   "outputs": [
    {
     "ename": "KeyboardInterrupt",
     "evalue": "",
     "output_type": "error",
     "traceback": [
      "\u001b[0;31m---------------------------------------------------------------------------\u001b[0m",
      "\u001b[0;31mKeyboardInterrupt\u001b[0m                         Traceback (most recent call last)",
      "\u001b[0;32m<ipython-input-42-57acc475bdbe>\u001b[0m in \u001b[0;36m<module>\u001b[0;34m()\u001b[0m\n\u001b[1;32m     12\u001b[0m             \u001b[0mos\u001b[0m\u001b[0;34m.\u001b[0m\u001b[0mpath\u001b[0m\u001b[0;34m.\u001b[0m\u001b[0mabspath\u001b[0m\u001b[0;34m(\u001b[0m\u001b[0;34m\"data/dog.jpg\"\u001b[0m\u001b[0;34m)\u001b[0m\u001b[0;34m,\u001b[0m\u001b[0;34m\u001b[0m\u001b[0m\n\u001b[1;32m     13\u001b[0m         ]\n\u001b[0;32m---> 14\u001b[0;31m         \u001b[0mout\u001b[0m\u001b[0;34m=\u001b[0m\u001b[0msubprocess\u001b[0m\u001b[0;34m.\u001b[0m\u001b[0mcheck_output\u001b[0m\u001b[0;34m(\u001b[0m\u001b[0mcmd\u001b[0m\u001b[0;34m)\u001b[0m\u001b[0;34m\u001b[0m\u001b[0m\n\u001b[0m\u001b[1;32m     15\u001b[0m         \u001b[0mt2\u001b[0m\u001b[0;34m=\u001b[0m\u001b[0mtime\u001b[0m\u001b[0;34m.\u001b[0m\u001b[0mtime\u001b[0m\u001b[0;34m(\u001b[0m\u001b[0;34m)\u001b[0m\u001b[0;34m\u001b[0m\u001b[0m\n\u001b[1;32m     16\u001b[0m         \u001b[0mresults\u001b[0m\u001b[0;34m[\u001b[0m\u001b[0mbuild\u001b[0m\u001b[0;34m]\u001b[0m\u001b[0;34m.\u001b[0m\u001b[0mappend\u001b[0m\u001b[0;34m(\u001b[0m\u001b[0mt2\u001b[0m\u001b[0;34m-\u001b[0m\u001b[0mt1\u001b[0m\u001b[0;34m)\u001b[0m\u001b[0;34m\u001b[0m\u001b[0m\n",
      "\u001b[0;32m/usr/lib/python3.7/subprocess.py\u001b[0m in \u001b[0;36mcheck_output\u001b[0;34m(timeout, *popenargs, **kwargs)\u001b[0m\n\u001b[1;32m    374\u001b[0m \u001b[0;34m\u001b[0m\u001b[0m\n\u001b[1;32m    375\u001b[0m     return run(*popenargs, stdout=PIPE, timeout=timeout, check=True,\n\u001b[0;32m--> 376\u001b[0;31m                **kwargs).stdout\n\u001b[0m\u001b[1;32m    377\u001b[0m \u001b[0;34m\u001b[0m\u001b[0m\n\u001b[1;32m    378\u001b[0m \u001b[0;34m\u001b[0m\u001b[0m\n",
      "\u001b[0;32m/usr/lib/python3.7/subprocess.py\u001b[0m in \u001b[0;36mrun\u001b[0;34m(input, capture_output, timeout, check, *popenargs, **kwargs)\u001b[0m\n\u001b[1;32m    453\u001b[0m     \u001b[0;32mwith\u001b[0m \u001b[0mPopen\u001b[0m\u001b[0;34m(\u001b[0m\u001b[0;34m*\u001b[0m\u001b[0mpopenargs\u001b[0m\u001b[0;34m,\u001b[0m \u001b[0;34m**\u001b[0m\u001b[0mkwargs\u001b[0m\u001b[0;34m)\u001b[0m \u001b[0;32mas\u001b[0m \u001b[0mprocess\u001b[0m\u001b[0;34m:\u001b[0m\u001b[0;34m\u001b[0m\u001b[0m\n\u001b[1;32m    454\u001b[0m         \u001b[0;32mtry\u001b[0m\u001b[0;34m:\u001b[0m\u001b[0;34m\u001b[0m\u001b[0m\n\u001b[0;32m--> 455\u001b[0;31m             \u001b[0mstdout\u001b[0m\u001b[0;34m,\u001b[0m \u001b[0mstderr\u001b[0m \u001b[0;34m=\u001b[0m \u001b[0mprocess\u001b[0m\u001b[0;34m.\u001b[0m\u001b[0mcommunicate\u001b[0m\u001b[0;34m(\u001b[0m\u001b[0minput\u001b[0m\u001b[0;34m,\u001b[0m \u001b[0mtimeout\u001b[0m\u001b[0;34m=\u001b[0m\u001b[0mtimeout\u001b[0m\u001b[0;34m)\u001b[0m\u001b[0;34m\u001b[0m\u001b[0m\n\u001b[0m\u001b[1;32m    456\u001b[0m         \u001b[0;32mexcept\u001b[0m \u001b[0mTimeoutExpired\u001b[0m\u001b[0;34m:\u001b[0m\u001b[0;34m\u001b[0m\u001b[0m\n\u001b[1;32m    457\u001b[0m             \u001b[0mprocess\u001b[0m\u001b[0;34m.\u001b[0m\u001b[0mkill\u001b[0m\u001b[0;34m(\u001b[0m\u001b[0;34m)\u001b[0m\u001b[0;34m\u001b[0m\u001b[0m\n",
      "\u001b[0;32m/usr/lib/python3.7/subprocess.py\u001b[0m in \u001b[0;36mcommunicate\u001b[0;34m(self, input, timeout)\u001b[0m\n\u001b[1;32m    905\u001b[0m                 \u001b[0mself\u001b[0m\u001b[0;34m.\u001b[0m\u001b[0m_stdin_write\u001b[0m\u001b[0;34m(\u001b[0m\u001b[0minput\u001b[0m\u001b[0;34m)\u001b[0m\u001b[0;34m\u001b[0m\u001b[0m\n\u001b[1;32m    906\u001b[0m             \u001b[0;32melif\u001b[0m \u001b[0mself\u001b[0m\u001b[0;34m.\u001b[0m\u001b[0mstdout\u001b[0m\u001b[0;34m:\u001b[0m\u001b[0;34m\u001b[0m\u001b[0m\n\u001b[0;32m--> 907\u001b[0;31m                 \u001b[0mstdout\u001b[0m \u001b[0;34m=\u001b[0m \u001b[0mself\u001b[0m\u001b[0;34m.\u001b[0m\u001b[0mstdout\u001b[0m\u001b[0;34m.\u001b[0m\u001b[0mread\u001b[0m\u001b[0;34m(\u001b[0m\u001b[0;34m)\u001b[0m\u001b[0;34m\u001b[0m\u001b[0m\n\u001b[0m\u001b[1;32m    908\u001b[0m                 \u001b[0mself\u001b[0m\u001b[0;34m.\u001b[0m\u001b[0mstdout\u001b[0m\u001b[0;34m.\u001b[0m\u001b[0mclose\u001b[0m\u001b[0;34m(\u001b[0m\u001b[0;34m)\u001b[0m\u001b[0;34m\u001b[0m\u001b[0m\n\u001b[1;32m    909\u001b[0m             \u001b[0;32melif\u001b[0m \u001b[0mself\u001b[0m\u001b[0;34m.\u001b[0m\u001b[0mstderr\u001b[0m\u001b[0;34m:\u001b[0m\u001b[0;34m\u001b[0m\u001b[0m\n",
      "\u001b[0;31mKeyboardInterrupt\u001b[0m: "
     ]
    }
   ],
   "source": [
    "results = dict()\n",
    "for _ in range(5):\n",
    "    for build in builds:\n",
    "        if build not in results:\n",
    "            results[build]=list()\n",
    "        t1=time.time()\n",
    "        cmd = [\n",
    "            os.path.abspath(build),\n",
    "            \"detect\",\n",
    "            os.path.abspath(\"cfg/yolov3.cfg\"),\n",
    "            os.path.abspath(\"weights/yolov3.weights\"),\n",
    "            os.path.abspath(\"data/dog.jpg\"),\n",
    "        ]\n",
    "        out=subprocess.check_output(cmd)\n",
    "        t2=time.time()\n",
    "        results[build].append(t2-t1)"
   ]
  },
  {
   "cell_type": "code",
   "execution_count": 43,
   "metadata": {},
   "outputs": [
    {
     "data": {
      "text/plain": [
       "{'darknet-clang-6.0-0-1': [490.19594168663025,\n",
       "  417.5002021789551,\n",
       "  356.2893476486206,\n",
       "  413.20379424095154],\n",
       " 'darknet-clang-7-0-1': [343.80210638046265,\n",
       "  385.9453294277191,\n",
       "  549.7249188423157,\n",
       "  414.55504965782166],\n",
       " 'darknet-gcc-7-0-1': [6.253941535949707,\n",
       "  6.177249908447266,\n",
       "  6.202854156494141,\n",
       "  6.248764753341675],\n",
       " 'darknet-clang-4.0-0-1': [454.34588074684143,\n",
       "  415.4314205646515,\n",
       "  503.1004705429077],\n",
       " 'darknet-gcc-8-0-1': [6.191431045532227,\n",
       "  6.171233415603638,\n",
       "  6.193937540054321],\n",
       " 'darknet-gcc-6-0-1': [6.80988335609436, 6.795796871185303, 6.819422245025635],\n",
       " 'darknet-clang-5.0-0-1': [453.6865677833557,\n",
       "  415.6827530860901,\n",
       "  271.4317343235016],\n",
       " 'darknet-gcc-5-0-1': [6.240264654159546,\n",
       "  6.250433683395386,\n",
       "  6.244245529174805],\n",
       " 'darknet-clang-3.9-0-1': [413.0405924320221,\n",
       "  239.67937541007996,\n",
       "  395.7657151222229],\n",
       " 'darknet-gcc-4.8-0-1': [7.284436225891113,\n",
       "  7.276079177856445,\n",
       "  7.276226043701172]}"
      ]
     },
     "execution_count": 43,
     "metadata": {},
     "output_type": "execute_result"
    }
   ],
   "source": [
    "results"
   ]
  },
  {
   "cell_type": "code",
   "execution_count": null,
   "metadata": {},
   "outputs": [],
   "source": []
  }
 ],
 "metadata": {
  "kernelspec": {
   "display_name": "Python 3",
   "language": "python",
   "name": "python3"
  },
  "language_info": {
   "codemirror_mode": {
    "name": "ipython",
    "version": 3
   },
   "file_extension": ".py",
   "mimetype": "text/x-python",
   "name": "python",
   "nbconvert_exporter": "python",
   "pygments_lexer": "ipython3",
   "version": "3.7.0b3"
  }
 },
 "nbformat": 4,
 "nbformat_minor": 2
}
